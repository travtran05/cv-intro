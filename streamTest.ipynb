{
 "cells": [
  {
   "cell_type": "code",
   "execution_count": null,
   "metadata": {},
   "outputs": [],
   "source": [
    "import videoDetection\n",
    "import matplotlib.pyplot as plt\n",
    "\n",
    "video = videoDetection.Video()\n",
    "\n",
    "print('Initialising stream...')\n",
    "waited = 0\n",
    "while not video.frame_available():\n",
    "    waited += 1\n",
    "    # print('\\r  Frame not available (x{})'.format(waited), end='')\n",
    "    \n",
    "print('\\nSuccess!\\nStarting streaming - press \"q\" to quit.')\n",
    "if video.frame_available():\n",
    "    # Only retrieve and display a frame if it's new\n",
    "    frame = video.frame()\n",
    "plt.imshow(frame)\n"
   ]
  }
 ],
 "metadata": {
  "language_info": {
   "name": "python"
  },
  "orig_nbformat": 4
 },
 "nbformat": 4,
 "nbformat_minor": 2
}
