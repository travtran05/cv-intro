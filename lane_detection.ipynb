{
 "cells": [
  {
   "cell_type": "code",
   "execution_count": 1,
   "metadata": {},
   "outputs": [],
   "source": [
    "import cv2\n",
    "import numpy as np\n",
    "import matplotlib.pyplot as plt\n",
    "import lane_detection\n",
    "IMAGE_FILE = \"testing.png\"\n",
    "img = cv2.imread(IMAGE_FILE)"
   ]
  },
  {
   "cell_type": "code",
   "execution_count": 2,
   "metadata": {},
   "outputs": [
    {
     "name": "stdout",
     "output_type": "stream",
     "text": [
      "[[[3052 1178 3726 1309]]\n",
      "\n",
      " [[1044 2066 1405 1465]]\n",
      "\n",
      " [[1006 2132 1393 1488]]\n",
      "\n",
      " [[1066 2026 1433 1415]]\n",
      "\n",
      " [[1427 2133 1553 1587]]]\n"
     ]
    }
   ],
   "source": [
    "lines = lane_detection.detect_lines(img, 49, 50, 3, 500, 40)\n",
    "print(lines)\n",
    "plt.imshow(cv2.cvtColor(lane_detection.draw_lines(img, lines), cv2.COLOR_BGR2RGB))\n",
    "plt.show()"
   ]
  },
  {
   "cell_type": "code",
   "execution_count": null,
   "metadata": {},
   "outputs": [],
   "source": []
  },
  {
   "cell_type": "code",
   "execution_count": null,
   "metadata": {},
   "outputs": [],
   "source": [
    "lane_detection.get_slopes_intercepts(lines)"
   ]
  },
  {
   "cell_type": "code",
   "execution_count": null,
   "metadata": {},
   "outputs": [],
   "source": [
    "lanes = lane_detection.detect_lanes(lines)\n",
    "print(lanes)"
   ]
  },
  {
   "cell_type": "code",
   "execution_count": null,
   "metadata": {},
   "outputs": [],
   "source": [
    "lane_detection.draw_lanes(img, lanes)\n",
    "plt.imshow(cv2.cvtColor(lane_detection.draw_lanes(img, lanes), cv2.COLOR_BGR2RGB))\n",
    "plt.show()"
   ]
  }
 ],
 "metadata": {
  "kernelspec": {
   "display_name": "bluecv",
   "language": "python",
   "name": "python3"
  },
  "language_info": {
   "codemirror_mode": {
    "name": "ipython",
    "version": 3
   },
   "file_extension": ".py",
   "mimetype": "text/x-python",
   "name": "python",
   "nbconvert_exporter": "python",
   "pygments_lexer": "ipython3",
   "version": "3.9.2"
  },
  "orig_nbformat": 4
 },
 "nbformat": 4,
 "nbformat_minor": 2
}
