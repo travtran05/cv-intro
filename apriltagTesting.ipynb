{
 "cells": [
  {
   "cell_type": "code",
   "execution_count": null,
   "metadata": {},
   "outputs": [],
   "source": [
    "from april_tag_detection import *\n",
    "import cv2\n",
    "from pid2 import *\n",
    "vertical_pid = PID(30, 0, 0, 100)\n",
    "horizontal_pid = PID(30, 0, 0, 100)\n",
    "video = cv2.VideoCapture('AprilTagTest.mkv')\n",
    "pose = detect_tag(video)\n",
    "headingE = pose[0]\n",
    "depthE = pose[1]\n",
    "horizontal_output, vertical_output = PID_tags((1920, 1080), headingE, depthE, horizontal_pid, vertical_pid)"
   ]
  }
 ],
 "metadata": {
  "language_info": {
   "name": "python"
  },
  "orig_nbformat": 4
 },
 "nbformat": 4,
 "nbformat_minor": 2
}
