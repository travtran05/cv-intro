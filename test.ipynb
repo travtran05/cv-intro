{
 "cells": [
  {
   "cell_type": "code",
   "execution_count": 1,
   "metadata": {},
   "outputs": [],
   "source": [
    "import cv2\n",
    "import numpy as np\n",
    "import matplotlib.pyplot as plt\n",
    "#Just to push\n"
   ]
  },
  {
   "cell_type": "code",
   "execution_count": null,
   "metadata": {},
   "outputs": [],
   "source": [
    "img = cv2.imread('rov_pool.jpg')\n",
    "\n",
    "gray = cv2.cvtColor(img, cv2.COLOR_BGR2GRAY) # convert to grayscale\n",
    "edges = cv2.Canny(gray, 90, 95, apertureSize=3) # detect edges, gray is image in grayscale, 50 and 150 represent 2 images that have been threshholded at 2 different levels, apertureSize controls how much light the image gets and how exposed it is\n",
    "lines = cv2.HoughLinesP(\n",
    "                edges, #described above\n",
    "                1, #1 pixel resolution parameter\n",
    "                np.pi/180, # 1 degree resolution parameter\n",
    "                1, #min number of intersections/votes\n",
    "                minLineLength=1,\n",
    "                maxLineGap=100,\n",
    "        ) # detect lines\n",
    "\n",
    "for line in lines:\n",
    "    x1, y1, x2, y2 = line[0]\n",
    "    cv2.line(img, (x1, y1), (x2, y2), (0, 255, 0), 2)\n",
    "\n",
    "plt.imshow(cv2.cvtColor(img, cv2.COLOR_BGR2RGB))"
   ]
  },
  {
   "cell_type": "code",
   "execution_count": null,
   "metadata": {},
   "outputs": [],
   "source": [
    "from dt_apriltags import Detector\n",
    "img = cv2.imread('test_image.png', cv2.IMREAD_GRAYSCALE)\n",
    "\n",
    "at_detector = Detector(families='tag36h11', #controls what it is supposed to detect\n",
    "                       nthreads=1, #controls the number of threads used in the detection\n",
    "                       quad_decimate=1.0, #controls to what scale the image is lowered in resolution\n",
    "                       quad_sigma=0.0, #blur applied to the image to reduce noise\n",
    "                       refine_edges=1, #attempts to redefine the edges of the tag boundaries\n",
    "                       decode_sharpening=0.25, #controls how much the image is sharpened after the tags are discovered\n",
    "                       debug=0) # no debugging information will be produced\n",
    "\n",
    "tags = at_detector.detect(img, estimate_tag_pose=False, camera_params=None, tag_size=None)\n",
    "\n",
    "color_img = cv2.cvtColor(img, cv2.COLOR_GRAY2RGB)\n",
    "\n",
    "for tag in tags:\n",
    "    for idx in range(len(tag.corners)):\n",
    "        cv2.line(color_img, tuple(tag.corners[idx - 1, :].astype(int)), tuple(tag.corners[idx, :].astype(int)), (0, 255, 0))\n",
    "\n",
    "    cv2.putText(color_img, str(tag.tag_id),\n",
    "                org=(tag.corners[0, 0].astype(int) + 10, tag.corners[0, 1].astype(int) + 10),\n",
    "                fontFace=cv2.FONT_HERSHEY_SIMPLEX,\n",
    "                fontScale=0.8,\n",
    "                color=(0, 0, 255))\n",
    "    \n",
    "plt.imshow(img)"
   ]
  }
 ],
 "metadata": {
  "kernelspec": {
   "display_name": "Python 3",
   "language": "python",
   "name": "python3"
  },
  "language_info": {
   "codemirror_mode": {
    "name": "ipython",
    "version": 3
   },
   "file_extension": ".py",
   "mimetype": "text/x-python",
   "name": "python",
   "nbconvert_exporter": "python",
   "pygments_lexer": "ipython3",
   "version": "3.9.2"
  },
  "orig_nbformat": 4
 },
 "nbformat": 4,
 "nbformat_minor": 2
}
